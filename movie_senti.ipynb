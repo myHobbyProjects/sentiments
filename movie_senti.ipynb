{
 "cells": [
  {
   "cell_type": "code",
   "execution_count": 10,
   "metadata": {},
   "outputs": [],
   "source": [
    "import pandas as pd\n",
    "import os\n",
    "import matplotlib.pyplot as plt\n",
    "import numpy as np\n",
    "from keras.models import Sequential\n",
    "from keras.layers import LSTM\n",
    "from keras.layers import Dense\n",
    "from keras.layers import RepeatVector\n",
    "from keras.layers import TimeDistributed\n",
    "from keras.layers import Embedding\n",
    "from sklearn.model_selection import train_test_split\n",
    "from keras.preprocessing.sequence import pad_sequences\n",
    "from keras.datasets import imdb\n",
    "from keras.preprocessing import sequence"
   ]
  },
  {
   "cell_type": "code",
   "execution_count": 11,
   "metadata": {},
   "outputs": [],
   "source": [
    "unique_words = 5000\n",
    "(train_data, train_labels), (test_data, test_labels) = imdb.load_data(num_words=unique_words)"
   ]
  },
  {
   "cell_type": "code",
   "execution_count": 12,
   "metadata": {
    "scrolled": true
   },
   "outputs": [
    {
     "data": {
      "text/plain": [
       "4998"
      ]
     },
     "execution_count": 12,
     "metadata": {},
     "output_type": "execute_result"
    }
   ],
   "source": [
    "# unique words\n",
    "len(np.unique(np.hstack(train_data)))"
   ]
  },
  {
   "cell_type": "code",
   "execution_count": 13,
   "metadata": {},
   "outputs": [
    {
     "name": "stdout",
     "output_type": "stream",
     "text": [
      "(50000,)\n",
      "(50000,)\n"
     ]
    }
   ],
   "source": [
    "X = np.concatenate((train_data, test_data), axis=0)\n",
    "y = np.concatenate((train_labels, test_labels), axis=0)\n",
    "print(X.shape)\n",
    "print(y.shape)"
   ]
  },
  {
   "cell_type": "code",
   "execution_count": 14,
   "metadata": {},
   "outputs": [
    {
     "name": "stdout",
     "output_type": "stream",
     "text": [
      "(37500,)\n",
      "(12500,)\n"
     ]
    }
   ],
   "source": [
    "X_train, X_test, y_train, y_test = train_test_split(X, y)\n",
    "print(X_train.shape)\n",
    "print(X_test.shape)"
   ]
  },
  {
   "cell_type": "code",
   "execution_count": 15,
   "metadata": {},
   "outputs": [
    {
     "name": "stdout",
     "output_type": "stream",
     "text": [
      "min, max and avg strlen 7 2494 235.0\n"
     ]
    }
   ],
   "source": [
    "strlen = [len(x) for x in X_train]\n",
    "print(\"min, max and avg strlen\", min(strlen), max(strlen), np.rint(np.sum(strlen)/len(strlen)))"
   ]
  },
  {
   "cell_type": "code",
   "execution_count": 16,
   "metadata": {},
   "outputs": [],
   "source": [
    "timesteps = 64\n",
    "X_train = sequence.pad_sequences(X_train, maxlen=timesteps)\n",
    "X_test = sequence.pad_sequences(X_test, maxlen=timesteps)"
   ]
  },
  {
   "cell_type": "code",
   "execution_count": 17,
   "metadata": {},
   "outputs": [
    {
     "name": "stdout",
     "output_type": "stream",
     "text": [
      "Model: \"sequential_1\"\n",
      "_________________________________________________________________\n",
      "Layer (type)                 Output Shape              Param #   \n",
      "=================================================================\n",
      "embedding_1 (Embedding)      (None, 64, 64)            320000    \n",
      "_________________________________________________________________\n",
      "lstm_1 (LSTM)                (None, 64, 32)            12416     \n",
      "_________________________________________________________________\n",
      "lstm_2 (LSTM)                (None, 32)                8320      \n",
      "_________________________________________________________________\n",
      "dense_1 (Dense)              (None, 1)                 33        \n",
      "=================================================================\n",
      "Total params: 340,769\n",
      "Trainable params: 340,769\n",
      "Non-trainable params: 0\n",
      "_________________________________________________________________\n"
     ]
    }
   ],
   "source": [
    "output_dim = 64\n",
    "model = Sequential()\n",
    "model.add(Embedding(unique_words, output_dim, input_length=timesteps, trainable=True))\n",
    "model.add(LSTM(32, activation='relu', return_sequences = True))\n",
    "model.add(LSTM(32, activation='relu'))\n",
    "model.add(Dense(1, activation='sigmoid'))\n",
    "model.compile(optimizer='adam', loss='binary_crossentropy', metrics=['accuracy'])\n",
    "model.summary()"
   ]
  },
  {
   "cell_type": "code",
   "execution_count": 18,
   "metadata": {},
   "outputs": [
    {
     "name": "stdout",
     "output_type": "stream",
     "text": [
      "Weight File Exist\n"
     ]
    }
   ],
   "source": [
    "import os.path\n",
    "fname = \"my_model_weights.h5\"\n",
    "if os.path.isfile(fname) is True:\n",
    "    print(\"Weight File Exist\")\n",
    "    model.load_weights(fname, by_name=True)\n",
    "else:\n",
    "    # fit model\n",
    "    hist = model.fit(X_train, y_train, epochs=100, verbose=2)\n",
    "    model.save_weights(fname)"
   ]
  },
  {
   "cell_type": "code",
   "execution_count": 19,
   "metadata": {},
   "outputs": [
    {
     "name": "stdout",
     "output_type": "stream",
     "text": [
      "Accuracy: 94.90%\n"
     ]
    }
   ],
   "source": [
    "# Final evaluation of the model\n",
    "scores = model.evaluate(X_test, y_test, verbose=0)\n",
    "print(\"Accuracy: %.2f%%\" % (scores[1]*100))"
   ]
  },
  {
   "cell_type": "code",
   "execution_count": 20,
   "metadata": {},
   "outputs": [
    {
     "name": "stdout",
     "output_type": "stream",
     "text": [
      "Sample accuracy 94.0\n"
     ]
    }
   ],
   "source": [
    "PRINT_NUM = 50\n",
    "\n",
    "idx = np.random.randint(low=0, high=X_test.shape[0], size=PRINT_NUM)\n",
    "yhat = model.predict(X_test[idx])\n",
    "yhat = np.rint(yhat)\n",
    "yhat = yhat.reshape(PRINT_NUM)\n",
    "# print(yhat)\n",
    "# print(y_test[idx])\n",
    "# digits = np.argmax(yhat, axis=1)\n",
    "# yhat = int(yhat)\n",
    "# for i, d in enumerate(digits):\n",
    "\n",
    "accuracy = np.sum(yhat == y_test[idx])/PRINT_NUM\n",
    "print(\"Sample accuracy\", accuracy*100.)"
   ]
  },
  {
   "cell_type": "code",
   "execution_count": null,
   "metadata": {},
   "outputs": [],
   "source": []
  }
 ],
 "metadata": {
  "kernelspec": {
   "display_name": "Python 3",
   "language": "python",
   "name": "python3"
  },
  "language_info": {
   "codemirror_mode": {
    "name": "ipython",
    "version": 3
   },
   "file_extension": ".py",
   "mimetype": "text/x-python",
   "name": "python",
   "nbconvert_exporter": "python",
   "pygments_lexer": "ipython3",
   "version": "3.7.2"
  }
 },
 "nbformat": 4,
 "nbformat_minor": 2
}
